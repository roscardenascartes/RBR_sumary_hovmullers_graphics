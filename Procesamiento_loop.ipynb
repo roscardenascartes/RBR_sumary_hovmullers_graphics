{
 "cells": [
  {
   "cell_type": "code",
   "execution_count": 1,
   "id": "4b917ea1-ce1b-4c70-806c-594f90d83d61",
   "metadata": {},
   "outputs": [],
   "source": [
    "import processing as prbr\n",
    "import matplotlib.pyplot as plt\n",
    "import numpy as n\n",
    "import glob\n",
    "from pathlib import Path\n"
   ]
  },
  {
   "cell_type": "code",
   "execution_count": 2,
   "id": "00206aa6-3fc2-4395-936a-8e78adacf632",
   "metadata": {
    "scrolled": true
   },
   "outputs": [
    {
     "name": "stdout",
     "output_type": "stream",
     "text": [
      "File n1:/home/rc/Documents/OneDrive-UdeC/TRABAJOS_INDEPENDIENTES/COPAS_Diego_Narváez/TORTEL_hr/Horarios_Jun2024/Upgraded/CTd BAhia de Tortel 24 Hrs 18 Junio 0230 hrs_upgraded.rsk\n",
      "/home/rc/Documents/OneDrive-UdeC/TRABAJOS_INDEPENDIENTES/COPAS_Diego_Narváez/TORTEL_hr/Horarios_Jun2024/Upgraded/CTd BAhia de Tortel 24 Hrs 18 Junio 0230 hrs_upgraded.rsk\n",
      "THE LAG IS: -20\n",
      "Wrote: /home/rc/Documents/OneDrive-UdeC/TRABAJOS_INDEPENDIENTES/COPAS_Diego_Narváez/TORTEL_hr/Horarios_Jun2024/Upgraded_processed2025_up/CTd BAhia de Tortel 24 Hrs 18 Junio 0230 hrs_upgraded_profile0.csv\n",
      "done\n",
      "File n2:/home/rc/Documents/OneDrive-UdeC/TRABAJOS_INDEPENDIENTES/COPAS_Diego_Narváez/TORTEL_hr/Horarios_Jun2024/Upgraded/CTD Bahia de Tortl  24 Hrs 18 Junio 0630hrs_upgraded.rsk\n",
      "/home/rc/Documents/OneDrive-UdeC/TRABAJOS_INDEPENDIENTES/COPAS_Diego_Narváez/TORTEL_hr/Horarios_Jun2024/Upgraded/CTD Bahia de Tortl  24 Hrs 18 Junio 0630hrs_upgraded.rsk\n",
      "THE LAG IS: -20\n",
      "Wrote: /home/rc/Documents/OneDrive-UdeC/TRABAJOS_INDEPENDIENTES/COPAS_Diego_Narváez/TORTEL_hr/Horarios_Jun2024/Upgraded_processed2025_up/CTD Bahia de Tortl  24 Hrs 18 Junio 0630hrs_upgraded_profile0.csv\n",
      "done\n",
      "File n3:/home/rc/Documents/OneDrive-UdeC/TRABAJOS_INDEPENDIENTES/COPAS_Diego_Narváez/TORTEL_hr/Horarios_Jun2024/Upgraded/CTD Bahia de Tortel 24 Hrs 17  Junio 2230 hrs_upgraded.rsk\n",
      "/home/rc/Documents/OneDrive-UdeC/TRABAJOS_INDEPENDIENTES/COPAS_Diego_Narváez/TORTEL_hr/Horarios_Jun2024/Upgraded/CTD Bahia de Tortel 24 Hrs 17  Junio 2230 hrs_upgraded.rsk\n",
      "THE LAG IS: -12\n",
      "Wrote: /home/rc/Documents/OneDrive-UdeC/TRABAJOS_INDEPENDIENTES/COPAS_Diego_Narváez/TORTEL_hr/Horarios_Jun2024/Upgraded_processed2025_up/CTD Bahia de Tortel 24 Hrs 17  Junio 2230 hrs_upgraded_profile0.csv\n",
      "done\n",
      "File n4:/home/rc/Documents/OneDrive-UdeC/TRABAJOS_INDEPENDIENTES/COPAS_Diego_Narváez/TORTEL_hr/Horarios_Jun2024/Upgraded/CTD Bahia de Tortel 24 Hrs 17 junio 1630_upgraded.rsk\n",
      "/home/rc/Documents/OneDrive-UdeC/TRABAJOS_INDEPENDIENTES/COPAS_Diego_Narváez/TORTEL_hr/Horarios_Jun2024/Upgraded/CTD Bahia de Tortel 24 Hrs 17 junio 1630_upgraded.rsk\n",
      "THE LAG IS: -17\n",
      "Wrote: /home/rc/Documents/OneDrive-UdeC/TRABAJOS_INDEPENDIENTES/COPAS_Diego_Narváez/TORTEL_hr/Horarios_Jun2024/Upgraded_processed2025_up/CTD Bahia de Tortel 24 Hrs 17 junio 1630_upgraded_profile0.csv\n",
      "done\n",
      "File n5:/home/rc/Documents/OneDrive-UdeC/TRABAJOS_INDEPENDIENTES/COPAS_Diego_Narváez/TORTEL_hr/Horarios_Jun2024/Upgraded/CTD Bahia de Tortel 24 Hrs 17 Junio 2030_upgraded.rsk\n",
      "/home/rc/Documents/OneDrive-UdeC/TRABAJOS_INDEPENDIENTES/COPAS_Diego_Narváez/TORTEL_hr/Horarios_Jun2024/Upgraded/CTD Bahia de Tortel 24 Hrs 17 Junio 2030_upgraded.rsk\n",
      "THE LAG IS: -4\n",
      "Wrote: /home/rc/Documents/OneDrive-UdeC/TRABAJOS_INDEPENDIENTES/COPAS_Diego_Narváez/TORTEL_hr/Horarios_Jun2024/Upgraded_processed2025_up/CTD Bahia de Tortel 24 Hrs 17 Junio 2030_upgraded_profile0.csv\n",
      "done\n",
      "File n6:/home/rc/Documents/OneDrive-UdeC/TRABAJOS_INDEPENDIENTES/COPAS_Diego_Narváez/TORTEL_hr/Horarios_Jun2024/Upgraded/CTD Bahia de Tortel 24 Hrs 18 Junio 0030 hrs_upgraded.rsk\n",
      "/home/rc/Documents/OneDrive-UdeC/TRABAJOS_INDEPENDIENTES/COPAS_Diego_Narváez/TORTEL_hr/Horarios_Jun2024/Upgraded/CTD Bahia de Tortel 24 Hrs 18 Junio 0030 hrs_upgraded.rsk\n",
      "THE LAG IS: -17\n",
      "Wrote: /home/rc/Documents/OneDrive-UdeC/TRABAJOS_INDEPENDIENTES/COPAS_Diego_Narváez/TORTEL_hr/Horarios_Jun2024/Upgraded_processed2025_up/CTD Bahia de Tortel 24 Hrs 18 Junio 0030 hrs_upgraded_profile0.csv\n",
      "done\n",
      "File n7:/home/rc/Documents/OneDrive-UdeC/TRABAJOS_INDEPENDIENTES/COPAS_Diego_Narváez/TORTEL_hr/Horarios_Jun2024/Upgraded/CTD Bahia de Tortel 24 Hrs 17 junio 1230 hrs_upgraded.rsk\n",
      "/home/rc/Documents/OneDrive-UdeC/TRABAJOS_INDEPENDIENTES/COPAS_Diego_Narváez/TORTEL_hr/Horarios_Jun2024/Upgraded/CTD Bahia de Tortel 24 Hrs 17 junio 1230 hrs_upgraded.rsk\n",
      "THE LAG IS: -14\n",
      "Wrote: /home/rc/Documents/OneDrive-UdeC/TRABAJOS_INDEPENDIENTES/COPAS_Diego_Narváez/TORTEL_hr/Horarios_Jun2024/Upgraded_processed2025_up/CTD Bahia de Tortel 24 Hrs 17 junio 1230 hrs_upgraded_profile0.csv\n",
      "done\n",
      "File n8:/home/rc/Documents/OneDrive-UdeC/TRABAJOS_INDEPENDIENTES/COPAS_Diego_Narváez/TORTEL_hr/Horarios_Jun2024/Upgraded/CTD Bahia de Tortel 24 Hrs 17 junio 1830_upgraded.rsk\n",
      "/home/rc/Documents/OneDrive-UdeC/TRABAJOS_INDEPENDIENTES/COPAS_Diego_Narváez/TORTEL_hr/Horarios_Jun2024/Upgraded/CTD Bahia de Tortel 24 Hrs 17 junio 1830_upgraded.rsk\n",
      "THE LAG IS: -14\n",
      "Wrote: /home/rc/Documents/OneDrive-UdeC/TRABAJOS_INDEPENDIENTES/COPAS_Diego_Narváez/TORTEL_hr/Horarios_Jun2024/Upgraded_processed2025_up/CTD Bahia de Tortel 24 Hrs 17 junio 1830_upgraded_profile0.csv\n",
      "done\n",
      "File n9:/home/rc/Documents/OneDrive-UdeC/TRABAJOS_INDEPENDIENTES/COPAS_Diego_Narváez/TORTEL_hr/Horarios_Jun2024/Upgraded/CTD BAhia de Tortel 24 Hrs 18 Junio 0430 hrs_upgraded.rsk\n",
      "/home/rc/Documents/OneDrive-UdeC/TRABAJOS_INDEPENDIENTES/COPAS_Diego_Narváez/TORTEL_hr/Horarios_Jun2024/Upgraded/CTD BAhia de Tortel 24 Hrs 18 Junio 0430 hrs_upgraded.rsk\n",
      "THE LAG IS: -20\n",
      "Wrote: /home/rc/Documents/OneDrive-UdeC/TRABAJOS_INDEPENDIENTES/COPAS_Diego_Narváez/TORTEL_hr/Horarios_Jun2024/Upgraded_processed2025_up/CTD BAhia de Tortel 24 Hrs 18 Junio 0430 hrs_upgraded_profile0.csv\n",
      "done\n",
      "File n10:/home/rc/Documents/OneDrive-UdeC/TRABAJOS_INDEPENDIENTES/COPAS_Diego_Narváez/TORTEL_hr/Horarios_Jun2024/Upgraded/CTD Bahia de Tortel 24 Hrs 18 Junio 1030 hrs_upgraded.rsk\n",
      "/home/rc/Documents/OneDrive-UdeC/TRABAJOS_INDEPENDIENTES/COPAS_Diego_Narváez/TORTEL_hr/Horarios_Jun2024/Upgraded/CTD Bahia de Tortel 24 Hrs 18 Junio 1030 hrs_upgraded.rsk\n",
      "THE LAG IS: -13\n",
      "Wrote: /home/rc/Documents/OneDrive-UdeC/TRABAJOS_INDEPENDIENTES/COPAS_Diego_Narváez/TORTEL_hr/Horarios_Jun2024/Upgraded_processed2025_up/CTD Bahia de Tortel 24 Hrs 18 Junio 1030 hrs_upgraded_profile0.csv\n",
      "Wrote: /home/rc/Documents/OneDrive-UdeC/TRABAJOS_INDEPENDIENTES/COPAS_Diego_Narváez/TORTEL_hr/Horarios_Jun2024/Upgraded_processed2025_up/CTD Bahia de Tortel 24 Hrs 18 Junio 1030 hrs_upgraded_profile1.csv\n",
      "done\n",
      "File n11:/home/rc/Documents/OneDrive-UdeC/TRABAJOS_INDEPENDIENTES/COPAS_Diego_Narváez/TORTEL_hr/Horarios_Jun2024/Upgraded/CTD Bahia de Tortel 24 Hrs 17 Junio 1430_upgraded.rsk\n",
      "/home/rc/Documents/OneDrive-UdeC/TRABAJOS_INDEPENDIENTES/COPAS_Diego_Narváez/TORTEL_hr/Horarios_Jun2024/Upgraded/CTD Bahia de Tortel 24 Hrs 17 Junio 1430_upgraded.rsk\n",
      "THE LAG IS: -9\n",
      "Wrote: /home/rc/Documents/OneDrive-UdeC/TRABAJOS_INDEPENDIENTES/COPAS_Diego_Narváez/TORTEL_hr/Horarios_Jun2024/Upgraded_processed2025_up/CTD Bahia de Tortel 24 Hrs 17 Junio 1430_upgraded_profile0.csv\n",
      "done\n",
      "File n12:/home/rc/Documents/OneDrive-UdeC/TRABAJOS_INDEPENDIENTES/COPAS_Diego_Narváez/TORTEL_hr/Horarios_Jun2024/Upgraded/CTD Bahia de Tortel 24 Hrs 18 de Junio 0830 hrs_upgraded.rsk\n",
      "/home/rc/Documents/OneDrive-UdeC/TRABAJOS_INDEPENDIENTES/COPAS_Diego_Narváez/TORTEL_hr/Horarios_Jun2024/Upgraded/CTD Bahia de Tortel 24 Hrs 18 de Junio 0830 hrs_upgraded.rsk\n",
      "THE LAG IS: -6\n",
      "Wrote: /home/rc/Documents/OneDrive-UdeC/TRABAJOS_INDEPENDIENTES/COPAS_Diego_Narváez/TORTEL_hr/Horarios_Jun2024/Upgraded_processed2025_up/CTD Bahia de Tortel 24 Hrs 18 de Junio 0830 hrs_upgraded_profile0.csv\n",
      "done\n",
      "File n13:/home/rc/Documents/OneDrive-UdeC/TRABAJOS_INDEPENDIENTES/COPAS_Diego_Narváez/TORTEL_hr/Horarios_Jun2024/Upgraded/CTD Bahia de Tortel 24 Hrs 18 junio 1230 hrs_upgraded.rsk\n",
      "/home/rc/Documents/OneDrive-UdeC/TRABAJOS_INDEPENDIENTES/COPAS_Diego_Narváez/TORTEL_hr/Horarios_Jun2024/Upgraded/CTD Bahia de Tortel 24 Hrs 18 junio 1230 hrs_upgraded.rsk\n",
      "THE LAG IS: -20\n",
      "Wrote: /home/rc/Documents/OneDrive-UdeC/TRABAJOS_INDEPENDIENTES/COPAS_Diego_Narváez/TORTEL_hr/Horarios_Jun2024/Upgraded_processed2025_up/CTD Bahia de Tortel 24 Hrs 18 junio 1230 hrs_upgraded_profile0.csv\n",
      "done\n",
      "all done\n"
     ]
    }
   ],
   "source": [
    "path_in=(\"/home/rc/Documents/OneDrive-UdeC/TRABAJOS_INDEPENDIENTES/COPAS_Diego_Narváez/TORTEL_hr\")\n",
    "#datadir=(\"/Horario_Jul2024\")\n",
    "#datadir=\"/Horarios_Abr2024\"\n",
    "datadir=\"/Horarios_Jun2024/Upgraded\"\n",
    "path_outname=(path_in+datadir+\"_processed2025\")\n",
    "#datafile = Path(glob.glob((path_in+datadir+(\"/*.rsk\"))))\n",
    "#print(datafile)\n",
    " \n",
    "count=0\n",
    "for file in glob.glob(path_in+datadir+\"/*_upgraded.rsk\"):\n",
    "    count=count+1\n",
    "    print('File n'+str(count)+':'+str(Path(file)))\n",
    "    prbr.processing_rbr(file,path_outname,\"up\")\n",
    "\n",
    "print(\"all done\")\n",
    "                        \n",
    "        "
   ]
  },
  {
   "cell_type": "code",
   "execution_count": null,
   "id": "4d9a9491-aa4e-4523-8ad8-19e6c4afbd61",
   "metadata": {},
   "outputs": [],
   "source": []
  }
 ],
 "metadata": {
  "kernelspec": {
   "display_name": "Python 3 (ipykernel)",
   "language": "python",
   "name": "python3"
  },
  "language_info": {
   "codemirror_mode": {
    "name": "ipython",
    "version": 3
   },
   "file_extension": ".py",
   "mimetype": "text/x-python",
   "name": "python",
   "nbconvert_exporter": "python",
   "pygments_lexer": "ipython3",
   "version": "3.12.4"
  }
 },
 "nbformat": 4,
 "nbformat_minor": 5
}
